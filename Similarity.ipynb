{
 "cells": [
  {
   "cell_type": "code",
   "execution_count": 1,
   "metadata": {
    "collapsed": false
   },
   "outputs": [],
   "source": [
    "import pandas as pd"
   ]
  },
  {
   "cell_type": "code",
   "execution_count": 2,
   "metadata": {
    "collapsed": true
   },
   "outputs": [],
   "source": [
    "#this is the dataset of last.fm users. A dataset having list of users and artists he/she listened to and for how many times"
   ]
  },
  {
   "cell_type": "code",
   "execution_count": 3,
   "metadata": {
    "collapsed": true
   },
   "outputs": [],
   "source": [
    "data = pd.read_table(\"usersha1-artmbid-artname-plays.tsv\", usecols=[0, 2, 3], names=['user', 'artist', 'plays'])"
   ]
  },
  {
   "cell_type": "code",
   "execution_count": 4,
   "metadata": {
    "collapsed": false
   },
   "outputs": [
    {
     "data": {
      "text/html": [
       "<div>\n",
       "<table border=\"1\" class=\"dataframe\">\n",
       "  <thead>\n",
       "    <tr style=\"text-align: right;\">\n",
       "      <th></th>\n",
       "      <th>user</th>\n",
       "      <th>artist</th>\n",
       "      <th>plays</th>\n",
       "    </tr>\n",
       "  </thead>\n",
       "  <tbody>\n",
       "    <tr>\n",
       "      <th>0</th>\n",
       "      <td>00000c289a1829a808ac09c00daf10bc3c4e223b</td>\n",
       "      <td>betty blowtorch</td>\n",
       "      <td>2137</td>\n",
       "    </tr>\n",
       "    <tr>\n",
       "      <th>1</th>\n",
       "      <td>00000c289a1829a808ac09c00daf10bc3c4e223b</td>\n",
       "      <td>die Ärzte</td>\n",
       "      <td>1099</td>\n",
       "    </tr>\n",
       "    <tr>\n",
       "      <th>2</th>\n",
       "      <td>00000c289a1829a808ac09c00daf10bc3c4e223b</td>\n",
       "      <td>melissa etheridge</td>\n",
       "      <td>897</td>\n",
       "    </tr>\n",
       "    <tr>\n",
       "      <th>3</th>\n",
       "      <td>00000c289a1829a808ac09c00daf10bc3c4e223b</td>\n",
       "      <td>elvenking</td>\n",
       "      <td>717</td>\n",
       "    </tr>\n",
       "    <tr>\n",
       "      <th>4</th>\n",
       "      <td>00000c289a1829a808ac09c00daf10bc3c4e223b</td>\n",
       "      <td>juliette &amp; the licks</td>\n",
       "      <td>706</td>\n",
       "    </tr>\n",
       "  </tbody>\n",
       "</table>\n",
       "</div>"
      ],
      "text/plain": [
       "                                       user                artist  plays\n",
       "0  00000c289a1829a808ac09c00daf10bc3c4e223b       betty blowtorch   2137\n",
       "1  00000c289a1829a808ac09c00daf10bc3c4e223b             die Ärzte   1099\n",
       "2  00000c289a1829a808ac09c00daf10bc3c4e223b     melissa etheridge    897\n",
       "3  00000c289a1829a808ac09c00daf10bc3c4e223b             elvenking    717\n",
       "4  00000c289a1829a808ac09c00daf10bc3c4e223b  juliette & the licks    706"
      ]
     },
     "execution_count": 4,
     "metadata": {},
     "output_type": "execute_result"
    }
   ],
   "source": [
    "data.head()"
   ]
  },
  {
   "cell_type": "code",
   "execution_count": 5,
   "metadata": {
    "collapsed": true
   },
   "outputs": [],
   "source": [
    "d1 = data.groupby('user')"
   ]
  },
  {
   "cell_type": "code",
   "execution_count": 6,
   "metadata": {
    "collapsed": false
   },
   "outputs": [],
   "source": [
    "#d1.head()"
   ]
  },
  {
   "cell_type": "code",
   "execution_count": 7,
   "metadata": {
    "collapsed": false
   },
   "outputs": [],
   "source": [
    "d2 = data.groupby('artist')\n",
    "#d2.head()"
   ]
  },
  {
   "cell_type": "code",
   "execution_count": 8,
   "metadata": {
    "collapsed": true
   },
   "outputs": [],
   "source": [
    "# create a dictionary of artist name to the set of their users\n",
    "artist_sets = dict((artist, set(users)) for artist, users in data.groupby('artist')['user'])"
   ]
  },
  {
   "cell_type": "code",
   "execution_count": 9,
   "metadata": {
    "collapsed": false
   },
   "outputs": [],
   "source": [
    "#artist_sets"
   ]
  },
  {
   "cell_type": "code",
   "execution_count": 10,
   "metadata": {
    "collapsed": false
   },
   "outputs": [],
   "source": [
    "import math"
   ]
  },
  {
   "cell_type": "code",
   "execution_count": 11,
   "metadata": {
    "collapsed": false
   },
   "outputs": [],
   "source": [
    "from difflib import SequenceMatcher\n",
    "a = list(artist_sets['nine days'])\n",
    "b = list(artist_sets['limp wrist'])"
   ]
  },
  {
   "cell_type": "code",
   "execution_count": 12,
   "metadata": {
    "collapsed": false
   },
   "outputs": [],
   "source": [
    "output=SequenceMatcher(None, a, b).ratio()"
   ]
  },
  {
   "cell_type": "code",
   "execution_count": 13,
   "metadata": {
    "collapsed": false
   },
   "outputs": [
    {
     "data": {
      "text/plain": [
       "0.0"
      ]
     },
     "execution_count": 13,
     "metadata": {},
     "output_type": "execute_result"
    }
   ],
   "source": [
    "output"
   ]
  },
  {
   "cell_type": "code",
   "execution_count": 14,
   "metadata": {
    "collapsed": true
   },
   "outputs": [],
   "source": [
    "#above shows no similarity\n",
    "#Cosine similarity - the number of common attributes is divided by the total number of possible attributes\n",
    "#Jaccard similarity - the number of common attributes is divided by the number of attributes that exists in at \n",
    "#least one of the two objects."
   ]
  },
  {
   "cell_type": "code",
   "execution_count": 15,
   "metadata": {
    "collapsed": false
   },
   "outputs": [],
   "source": [
    "d1 = dict(artist_sets.items()[len(artist_sets)/2:])\n",
    "#d1"
   ]
  },
  {
   "cell_type": "code",
   "execution_count": 16,
   "metadata": {
    "collapsed": true
   },
   "outputs": [],
   "source": [
    "d2 = dict(artist_sets.items()[:len(artist_sets)/2])"
   ]
  },
  {
   "cell_type": "code",
   "execution_count": 17,
   "metadata": {
    "collapsed": true
   },
   "outputs": [],
   "source": [
    "def jaccard(a, b):\n",
    "    intersection = float(len(a.intersection(b)))\n",
    "    return intersection / (len(a) + len(b) - intersection)"
   ]
  },
  {
   "cell_type": "code",
   "execution_count": 28,
   "metadata": {
    "collapsed": false
   },
   "outputs": [
    {
     "name": "stdout",
     "output_type": "stream",
     "text": [
      "frans bauer - steve miller band : 0.000618429189858\n",
      "benny benassi - donkey rollers : 0.00969932104753\n",
      "gold diaz and young rebels - fio : 0.142857142857\n",
      "fishbone - queen adreena : 0.00180342651037\n",
      "the bones - crime in stereo : 0.00138026224983\n",
      "paul galaxy & the galactix - the coupe de villes : 0.5\n",
      "dead to fall - the berzerker : 0.00506146059291\n",
      "walls of jericho - hoods up : 0.000433463372345\n",
      "duran duran - yozuca* : 0.000182915675873\n",
      "daniel - virginelle : 0.0333333333333\n"
     ]
    }
   ],
   "source": [
    "#divided the set of artists into two dictionaries. Iterated through both and compared simultaneously \n",
    "#The function finds out if any two particular artists have users in common. Suppose artist Mumford & Sons and Coldplay have user\n",
    "#A in common. This can help us find similar music or kind of similar artists.\n",
    "c = 10 #just a count for displaying only 10 results as example\n",
    "for (k,v), (k2,v2) in zip(d1.items(), d2.items()):\n",
    "    a = set(d1[k])\n",
    "    b = set(d2[k2])\n",
    "    o = jaccard(a,b)\n",
    "    if o!=0.0 and c>0:\n",
    "        c = c-1\n",
    "        print(k + \" - \" + k2 + \" : \" +str(o))"
   ]
  },
  {
   "cell_type": "code",
   "execution_count": 19,
   "metadata": {
    "collapsed": true
   },
   "outputs": [],
   "source": [
    "#similarity can also be found among users preferring songs of same artist "
   ]
  },
  {
   "cell_type": "code",
   "execution_count": 20,
   "metadata": {
    "collapsed": true
   },
   "outputs": [],
   "source": [
    "# create a dictionary of user to the set of artists he/she listens to\n",
    "user_sets = dict((user, set(artists)) for user, artists in data.groupby('user')['artist'])"
   ]
  },
  {
   "cell_type": "code",
   "execution_count": 21,
   "metadata": {
    "collapsed": false
   },
   "outputs": [],
   "source": [
    "#user_sets"
   ]
  },
  {
   "cell_type": "code",
   "execution_count": 22,
   "metadata": {
    "collapsed": true
   },
   "outputs": [],
   "source": [
    "ud1 = dict(user_sets.items()[len(user_sets)/2:])\n",
    "ud2 = dict(user_sets.items()[:len(user_sets)/2])"
   ]
  },
  {
   "cell_type": "code",
   "execution_count": 29,
   "metadata": {
    "collapsed": false
   },
   "outputs": [
    {
     "name": "stdout",
     "output_type": "stream",
     "text": [
      "734f7337c7d33e99fa60a6361a5df8e3fb939ecf-d1867cbda35e0d48e9a8390d9f5e079c9d99ea96:0.0860215053763\n",
      "fbbd086a65ac965dfd5a6b1766f9dcebb1cbab38-0938eb3d1b449b480c4e2431c457f6ead7063a34:0.0104166666667\n",
      "9545c644c749123970c9adbbd1abdc0dedffa898-e4c6b36e65db3d48474dd538fe74d2dbb5a2e79e:0.00909090909091\n",
      "6e47887e25059e878ca47989d763d1cb29daf36a-b97479f9a563a5c43b423a976f51fd509e1ec5ba:0.0104166666667\n",
      "1ac7d54e49b271a469c1e17e024672e9ef0ca9d0-3bb020df0ff376dfdded4d5e63e2d35a50b3c535:0.0340909090909\n",
      "552cc8e1f73988acab7160f0f0d4830f7ccd01f7-f3fb86c0f024f640cae3fb479f3a27e0dd499891:0.00934579439252\n",
      "fede26b37a5151b62556056e932bec0895e93e0a-6af1f8a3748f2905913f1ef698d319fb39251200:0.0104166666667\n",
      "0a8ad5383d3ca84ac58af91e0aeae7230d6b6962-2ba88308f9aec5156e693a360998637f2e0bf34a:0.0375\n",
      "8db058cd5d6d78c97cd0941b35ef48024d0748cd-11c25963a9ae5012163b415852655ff5443c977f:0.0340909090909\n",
      "af3ba12e0a932b3ad9670623ba51b83bf0c7726b-7970e94ae2fcbcac725c395dfdbaf4cfb7e44e1e:0.020202020202\n"
     ]
    }
   ],
   "source": [
    "c = 10\n",
    "for (k,v), (k2,v2) in zip(ud1.items(), ud2.items()):\n",
    "    a = set(ud1[k])\n",
    "    b = set(ud2[k2])\n",
    "    o = jaccard(a,b)\n",
    "    if o!=0.0 and c>0:\n",
    "        c = c-1\n",
    "        print(k + \"-\" + k2 + \":\" +str(o))"
   ]
  },
  {
   "cell_type": "code",
   "execution_count": 26,
   "metadata": {
    "collapsed": true
   },
   "outputs": [],
   "source": [
    "#similar process done for users. List of users having some similar artists is the output\n",
    "#If user A and B share some common artists, the artists listened to by A can be recommended to B and vice-a-versa\n",
    "#seeing that A and B have some commonality in music taste"
   ]
  },
  {
   "cell_type": "code",
   "execution_count": null,
   "metadata": {
    "collapsed": true
   },
   "outputs": [],
   "source": []
  }
 ],
 "metadata": {
  "kernelspec": {
   "display_name": "Python 2",
   "language": "python",
   "name": "python2"
  },
  "language_info": {
   "codemirror_mode": {
    "name": "ipython",
    "version": 2
   },
   "file_extension": ".py",
   "mimetype": "text/x-python",
   "name": "python",
   "nbconvert_exporter": "python",
   "pygments_lexer": "ipython2",
   "version": "2.7.13"
  }
 },
 "nbformat": 4,
 "nbformat_minor": 0
}
